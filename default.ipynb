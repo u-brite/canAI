{
 "cells": [
  {
   "cell_type": "code",
   "execution_count": 2,
   "metadata": {},
   "outputs": [],
   "source": [
    "import pandas as pd"
   ]
  },
  {
   "cell_type": "code",
   "execution_count": 3,
   "metadata": {},
   "outputs": [],
   "source": [
    "df = pd.read_csv('Prostate.csv')"
   ]
  },
  {
   "cell_type": "code",
   "execution_count": 6,
   "metadata": {},
   "outputs": [
    {
     "data": {
      "text/plain": [
       "976"
      ]
     },
     "execution_count": 6,
     "metadata": {},
     "output_type": "execute_result"
    }
   ],
   "source": [
    "len(df.index)"
   ]
  },
  {
   "cell_type": "code",
   "execution_count": 4,
   "metadata": {},
   "outputs": [
    {
     "data": {
      "text/plain": [
       "['case_id',\n",
       " 'case_submitter_id',\n",
       " 'project_id',\n",
       " 'age_at_index',\n",
       " 'age_is_obfuscated',\n",
       " 'cause_of_death',\n",
       " 'cause_of_death_source',\n",
       " 'country_of_residence_at_enrollment',\n",
       " 'days_to_birth',\n",
       " 'days_to_death',\n",
       " 'ethnicity',\n",
       " 'gender',\n",
       " 'occupation_duration_years',\n",
       " 'premature_at_birth',\n",
       " 'race',\n",
       " 'vital_status',\n",
       " 'weeks_gestation_at_birth',\n",
       " 'year_of_birth',\n",
       " 'year_of_death',\n",
       " 'adrenal_hormone',\n",
       " 'age_at_diagnosis',\n",
       " 'ajcc_clinical_m',\n",
       " 'ajcc_clinical_n',\n",
       " 'ajcc_clinical_stage',\n",
       " 'ajcc_clinical_t',\n",
       " 'ajcc_pathologic_m',\n",
       " 'ajcc_pathologic_n',\n",
       " 'ajcc_pathologic_stage',\n",
       " 'ajcc_pathologic_t',\n",
       " 'ajcc_staging_system_edition',\n",
       " 'anaplasia_present',\n",
       " 'anaplasia_present_type',\n",
       " 'ann_arbor_b_symptoms',\n",
       " 'ann_arbor_b_symptoms_described',\n",
       " 'ann_arbor_clinical_stage',\n",
       " 'ann_arbor_extranodal_involvement',\n",
       " 'ann_arbor_pathologic_stage',\n",
       " 'best_overall_response',\n",
       " 'breslow_thickness',\n",
       " 'burkitt_lymphoma_clinical_variant',\n",
       " 'child_pugh_classification',\n",
       " 'circumferential_resection_margin',\n",
       " 'classification_of_tumor',\n",
       " 'cog_liver_stage',\n",
       " 'cog_neuroblastoma_risk_group',\n",
       " 'cog_renal_stage',\n",
       " 'cog_rhabdomyosarcoma_risk_group',\n",
       " 'days_to_best_overall_response',\n",
       " 'days_to_diagnosis',\n",
       " 'days_to_last_follow_up',\n",
       " 'days_to_last_known_disease_status',\n",
       " 'days_to_recurrence',\n",
       " 'eln_risk_classification',\n",
       " 'enneking_msts_grade',\n",
       " 'enneking_msts_metastasis',\n",
       " 'enneking_msts_stage',\n",
       " 'enneking_msts_tumor_site',\n",
       " 'esophageal_columnar_dysplasia_degree',\n",
       " 'esophageal_columnar_metaplasia_present',\n",
       " 'figo_stage',\n",
       " 'figo_staging_edition_year',\n",
       " 'first_symptom_prior_to_diagnosis',\n",
       " 'gastric_esophageal_junction_involvement',\n",
       " 'gleason_grade_group',\n",
       " 'gleason_grade_tertiary',\n",
       " 'gleason_patterns_percent',\n",
       " 'goblet_cells_columnar_mucosa_present',\n",
       " 'greatest_tumor_dimension',\n",
       " 'gross_tumor_weight',\n",
       " 'icd_10_code',\n",
       " 'igcccg_stage',\n",
       " 'inpc_grade',\n",
       " 'inpc_histologic_group',\n",
       " 'inrg_stage',\n",
       " 'inss_stage',\n",
       " 'international_prognostic_index',\n",
       " 'irs_group',\n",
       " 'irs_stage',\n",
       " 'ishak_fibrosis_score',\n",
       " 'iss_stage',\n",
       " 'largest_extrapelvic_peritoneal_focus',\n",
       " 'last_known_disease_status',\n",
       " 'laterality',\n",
       " 'lymph_node_involved_site',\n",
       " 'lymph_nodes_positive',\n",
       " 'lymph_nodes_tested',\n",
       " 'lymphatic_invasion_present',\n",
       " 'margin_distance',\n",
       " 'margins_involved_site',\n",
       " 'masaoka_stage',\n",
       " 'medulloblastoma_molecular_classification',\n",
       " 'metastasis_at_diagnosis',\n",
       " 'metastasis_at_diagnosis_site',\n",
       " 'method_of_diagnosis',\n",
       " 'micropapillary_features',\n",
       " 'mitosis_karyorrhexis_index',\n",
       " 'mitotic_count',\n",
       " 'morphology',\n",
       " 'non_nodal_regional_disease',\n",
       " 'non_nodal_tumor_deposits',\n",
       " 'ovarian_specimen_status',\n",
       " 'ovarian_surface_involvement',\n",
       " 'papillary_renal_cell_type',\n",
       " 'percent_tumor_invasion',\n",
       " 'perineural_invasion_present',\n",
       " 'peripancreatic_lymph_nodes_positive',\n",
       " 'peripancreatic_lymph_nodes_tested',\n",
       " 'peritoneal_fluid_cytological_status',\n",
       " 'pregnant_at_diagnosis',\n",
       " 'primary_diagnosis',\n",
       " 'primary_disease',\n",
       " 'primary_gleason_grade',\n",
       " 'prior_malignancy',\n",
       " 'prior_treatment',\n",
       " 'progression_or_recurrence',\n",
       " 'residual_disease',\n",
       " 'satellite_nodule_present',\n",
       " 'secondary_gleason_grade',\n",
       " 'site_of_resection_or_biopsy',\n",
       " 'sites_of_involvement',\n",
       " 'supratentorial_localization',\n",
       " 'synchronous_malignancy',\n",
       " 'tissue_or_organ_of_origin',\n",
       " 'transglottic_extension',\n",
       " 'tumor_confined_to_organ_of_origin',\n",
       " 'tumor_depth',\n",
       " 'tumor_focality',\n",
       " 'tumor_grade',\n",
       " 'tumor_largest_dimension_diameter',\n",
       " 'tumor_regression_grade',\n",
       " 'tumor_stage',\n",
       " 'vascular_invasion_present',\n",
       " 'vascular_invasion_type',\n",
       " 'weiss_assessment_score',\n",
       " 'who_cns_grade',\n",
       " 'who_nte_grade',\n",
       " 'wilms_tumor_histologic_subtype',\n",
       " 'year_of_diagnosis',\n",
       " 'chemo_concurrent_to_radiation',\n",
       " 'days_to_treatment_end',\n",
       " 'days_to_treatment_start',\n",
       " 'initial_disease_status',\n",
       " 'number_of_cycles',\n",
       " 'reason_treatment_ended',\n",
       " 'regimen_or_line_of_therapy',\n",
       " 'route_of_administration',\n",
       " 'therapeutic_agents',\n",
       " 'treatment_anatomic_site',\n",
       " 'treatment_arm',\n",
       " 'treatment_dose',\n",
       " 'treatment_dose_units',\n",
       " 'treatment_effect',\n",
       " 'treatment_effect_indicator',\n",
       " 'treatment_frequency',\n",
       " 'treatment_intent_type',\n",
       " 'treatment_or_therapy',\n",
       " 'treatment_outcome',\n",
       " 'treatment_type']"
      ]
     },
     "execution_count": 4,
     "metadata": {},
     "output_type": "execute_result"
    }
   ],
   "source": [
    "list(df.columns)"
   ]
  },
  {
   "cell_type": "code",
   "execution_count": 9,
   "metadata": {},
   "outputs": [],
   "source": [
    "treatment = df.treatment_type"
   ]
  },
  {
   "cell_type": "code",
   "execution_count": 11,
   "metadata": {},
   "outputs": [
    {
     "data": {
      "text/plain": [
       "0           Radiation Therapy, NOS\n",
       "1      Pharmaceutical Therapy, NOS\n",
       "2      Pharmaceutical Therapy, NOS\n",
       "3           Radiation Therapy, NOS\n",
       "4           Radiation Therapy, NOS\n",
       "                  ...             \n",
       "971         Radiation Therapy, NOS\n",
       "972         Radiation Therapy, NOS\n",
       "973    Pharmaceutical Therapy, NOS\n",
       "974    Pharmaceutical Therapy, NOS\n",
       "975         Radiation Therapy, NOS\n",
       "Name: treatment_type, Length: 976, dtype: object"
      ]
     },
     "execution_count": 11,
     "metadata": {},
     "output_type": "execute_result"
    }
   ],
   "source": [
    "treatment"
   ]
  },
  {
   "cell_type": "code",
   "execution_count": 9,
   "metadata": {},
   "outputs": [
    {
     "data": {
      "text/plain": [
       "array(['male'], dtype=object)"
      ]
     },
     "execution_count": 9,
     "metadata": {},
     "output_type": "execute_result"
    }
   ],
   "source": [
    "df['gender'].unique()"
   ]
  },
  {
   "cell_type": "code",
   "execution_count": null,
   "metadata": {},
   "outputs": [],
   "source": []
  }
 ],
 "metadata": {
  "kernelspec": {
   "display_name": "Python 3.10.5 ('ubrite')",
   "language": "python",
   "name": "python3"
  },
  "language_info": {
   "codemirror_mode": {
    "name": "ipython",
    "version": 3
   },
   "file_extension": ".py",
   "mimetype": "text/x-python",
   "name": "python",
   "nbconvert_exporter": "python",
   "pygments_lexer": "ipython3",
   "version": "3.10.5"
  },
  "orig_nbformat": 4,
  "vscode": {
   "interpreter": {
    "hash": "0a3a4eb86f840785835501ae8378dd2bb2fd225fa0c201e6aa86e45c2491c491"
   }
  }
 },
 "nbformat": 4,
 "nbformat_minor": 2
}
