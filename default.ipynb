{
 "cells": [
  {
   "cell_type": "code",
   "execution_count": 1,
   "metadata": {},
   "outputs": [],
   "source": [
    "import pandas as pd\n",
    "import plotly.figure_factory as ff\n",
    "from lifelines import KaplanMeierFitter\n",
    "import numpy as np"
   ]
  },
  {
   "cell_type": "code",
   "execution_count": 18,
   "metadata": {},
   "outputs": [],
   "source": [
    "df = pd.read_csv('/Users/jedrzejkubica/calc/ubrite_hackathon2022/TCGA-PRAD.GDC_phenotype.tsv', sep='\\t')"
   ]
  },
  {
   "cell_type": "code",
   "execution_count": 19,
   "metadata": {},
   "outputs": [],
   "source": [
    "df = df[df['days_to_first_biochemical_recurrence'].notna()]"
   ]
  },
  {
   "cell_type": "code",
   "execution_count": 24,
   "metadata": {},
   "outputs": [
    {
     "data": {
      "text/plain": [
       "1       990.0\n",
       "6       950.0\n",
       "24     2162.0\n",
       "25     2162.0\n",
       "27     1506.0\n",
       "        ...  \n",
       "605    1088.0\n",
       "606    1088.0\n",
       "613     308.0\n",
       "616     537.0\n",
       "621     819.0\n",
       "Name: days_to_first_biochemical_recurrence, Length: 75, dtype: float64"
      ]
     },
     "execution_count": 24,
     "metadata": {},
     "output_type": "execute_result"
    }
   ],
   "source": [
    "df['days_to_first_biochemical_recurrence']"
   ]
  },
  {
   "cell_type": "code",
   "execution_count": 26,
   "metadata": {},
   "outputs": [],
   "source": [
    "columns = ['age_at_index',\n",
    "    'days_to_birth',\n",
    "    'days_to_death',\n",
    "    'ethnicity',\n",
    "    'gender',\n",
    "    'race',\n",
    "    'vital_status',\n",
    "    'morphology',\n",
    "    'primary_diagnosis',\n",
    "    'ajcc_clinical_t',\n",
    "    'ajcc_clinical_m',\n",
    "    'ajcc_pathologic_t',\n",
    "    'ajcc_pathologic_n',\n",
    "    'primary_gleason_grade',\n",
    "    'secondary_gleason_grade',\n",
    "    'prior_malignancy',\n",
    "    'prior_treatment',\n",
    "    'site_of_resection_or_biopsy',\n",
    "    'treatment_type']"
   ]
  },
  {
   "cell_type": "code",
   "execution_count": 27,
   "metadata": {},
   "outputs": [],
   "source": [
    "df = df[columns]"
   ]
  },
  {
   "cell_type": "code",
   "execution_count": 28,
   "metadata": {},
   "outputs": [],
   "source": [
    "df['days_to_death'] = np.where(df['vital_status'] == 'Alive' , 4000, df['days_to_death'])\n",
    "df['days_to_death'] = np.where(df['vital_status'] == 'Not Reported' , 4000, df['days_to_death'])"
   ]
  },
  {
   "cell_type": "code",
   "execution_count": 29,
   "metadata": {},
   "outputs": [
    {
     "data": {
      "text/plain": [
       "array([4000, 3502,  628,  791, 1855,  728, 2469, 1329,  146,  875])"
      ]
     },
     "execution_count": 29,
     "metadata": {},
     "output_type": "execute_result"
    }
   ],
   "source": [
    "df['days_to_death'].astype(int).unique()"
   ]
  },
  {
   "cell_type": "code",
   "execution_count": 41,
   "metadata": {},
   "outputs": [
    {
     "data": {
      "text/plain": [
       "0      4000\n",
       "1      4000\n",
       "2      3502\n",
       "3      3502\n",
       "4      4000\n",
       "       ... \n",
       "971    4000\n",
       "972    4000\n",
       "973    4000\n",
       "974    4000\n",
       "975    4000\n",
       "Name: days_to_death, Length: 976, dtype: object"
      ]
     },
     "execution_count": 41,
     "metadata": {},
     "output_type": "execute_result"
    }
   ],
   "source": [
    "df['days_to_death']"
   ]
  },
  {
   "cell_type": "code",
   "execution_count": 30,
   "metadata": {},
   "outputs": [],
   "source": [
    "df['vital_status'].replace({'Dead': 1, 'Alive': 0, 'Not Reported': 0}, inplace=True)"
   ]
  },
  {
   "cell_type": "code",
   "execution_count": 31,
   "metadata": {},
   "outputs": [
    {
     "data": {
      "text/plain": [
       "array([0, 1])"
      ]
     },
     "execution_count": 31,
     "metadata": {},
     "output_type": "execute_result"
    }
   ],
   "source": [
    "df['vital_status'].unique()"
   ]
  },
  {
   "cell_type": "code",
   "execution_count": 34,
   "metadata": {},
   "outputs": [],
   "source": [
    "T = df[df['vital_status'] == 1]['days_to_death']"
   ]
  },
  {
   "cell_type": "code",
   "execution_count": 35,
   "metadata": {},
   "outputs": [],
   "source": [
    "C = df[df['vital_status'] == 1]['vital_status']"
   ]
  },
  {
   "cell_type": "code",
   "execution_count": 36,
   "metadata": {},
   "outputs": [
    {
     "data": {
      "text/plain": [
       "(18, 18)"
      ]
     },
     "execution_count": 36,
     "metadata": {},
     "output_type": "execute_result"
    }
   ],
   "source": [
    "len(T), len(C)"
   ]
  },
  {
   "cell_type": "code",
   "execution_count": 37,
   "metadata": {},
   "outputs": [],
   "source": [
    "kmf = KaplanMeierFitter()"
   ]
  },
  {
   "cell_type": "code",
   "execution_count": 38,
   "metadata": {},
   "outputs": [
    {
     "name": "stderr",
     "output_type": "stream",
     "text": [
      "/Users/jedrzejkubica/opt/anaconda3/envs/ubrite/lib/python3.10/site-packages/lifelines/utils/__init__.py:1187: UserWarning: Attempting to convert an unexpected datatype 'object' to float. Suggestion: 1) use `lifelines.utils.datetimes_to_durations` to do conversions or 2) manually convert to floats/booleans.\n",
      "  warnings.warn(warning_text, UserWarning)\n"
     ]
    },
    {
     "data": {
      "text/plain": [
       "<lifelines.KaplanMeierFitter:\"KM_estimate\", fitted with 18 total observations, 0 right-censored observations>"
      ]
     },
     "execution_count": 38,
     "metadata": {},
     "output_type": "execute_result"
    }
   ],
   "source": [
    "kmf.fit(T, event_observed=C)"
   ]
  },
  {
   "cell_type": "code",
   "execution_count": 39,
   "metadata": {},
   "outputs": [
    {
     "data": {
      "text/html": [
       "<div>\n",
       "<style scoped>\n",
       "    .dataframe tbody tr th:only-of-type {\n",
       "        vertical-align: middle;\n",
       "    }\n",
       "\n",
       "    .dataframe tbody tr th {\n",
       "        vertical-align: top;\n",
       "    }\n",
       "\n",
       "    .dataframe thead th {\n",
       "        text-align: right;\n",
       "    }\n",
       "</style>\n",
       "<table border=\"1\" class=\"dataframe\">\n",
       "  <thead>\n",
       "    <tr style=\"text-align: right;\">\n",
       "      <th></th>\n",
       "      <th>KM_estimate</th>\n",
       "    </tr>\n",
       "    <tr>\n",
       "      <th>timeline</th>\n",
       "      <th></th>\n",
       "    </tr>\n",
       "  </thead>\n",
       "  <tbody>\n",
       "    <tr>\n",
       "      <th>0.0</th>\n",
       "      <td>1.000000</td>\n",
       "    </tr>\n",
       "    <tr>\n",
       "      <th>146.0</th>\n",
       "      <td>0.888889</td>\n",
       "    </tr>\n",
       "    <tr>\n",
       "      <th>628.0</th>\n",
       "      <td>0.777778</td>\n",
       "    </tr>\n",
       "    <tr>\n",
       "      <th>728.0</th>\n",
       "      <td>0.666667</td>\n",
       "    </tr>\n",
       "    <tr>\n",
       "      <th>791.0</th>\n",
       "      <td>0.555556</td>\n",
       "    </tr>\n",
       "    <tr>\n",
       "      <th>875.0</th>\n",
       "      <td>0.444444</td>\n",
       "    </tr>\n",
       "    <tr>\n",
       "      <th>1329.0</th>\n",
       "      <td>0.333333</td>\n",
       "    </tr>\n",
       "    <tr>\n",
       "      <th>1855.0</th>\n",
       "      <td>0.222222</td>\n",
       "    </tr>\n",
       "    <tr>\n",
       "      <th>2469.0</th>\n",
       "      <td>0.111111</td>\n",
       "    </tr>\n",
       "    <tr>\n",
       "      <th>3502.0</th>\n",
       "      <td>0.000000</td>\n",
       "    </tr>\n",
       "  </tbody>\n",
       "</table>\n",
       "</div>"
      ],
      "text/plain": [
       "          KM_estimate\n",
       "timeline             \n",
       "0.0          1.000000\n",
       "146.0        0.888889\n",
       "628.0        0.777778\n",
       "728.0        0.666667\n",
       "791.0        0.555556\n",
       "875.0        0.444444\n",
       "1329.0       0.333333\n",
       "1855.0       0.222222\n",
       "2469.0       0.111111\n",
       "3502.0       0.000000"
      ]
     },
     "execution_count": 39,
     "metadata": {},
     "output_type": "execute_result"
    }
   ],
   "source": [
    "kmf.survival_function_"
   ]
  },
  {
   "cell_type": "code",
   "execution_count": 40,
   "metadata": {},
   "outputs": [
    {
     "data": {
      "text/plain": [
       "<AxesSubplot:xlabel='timeline'>"
      ]
     },
     "execution_count": 40,
     "metadata": {},
     "output_type": "execute_result"
    },
    {
     "data": {
      "image/png": "[encoded data removed]",
      "text/plain": [
       "<Figure size 432x288 with 1 Axes>"
      ]
     },
     "metadata": {
      "needs_background": "light"
     },
     "output_type": "display_data"
    }
   ],
   "source": [
    "kmf.plot_survival_function()"
   ]
  },
  {
   "cell_type": "code",
   "execution_count": 43,
   "metadata": {},
   "outputs": [],
   "source": [
    "df = pd.read_csv('TCGA-PRAD.GDC_phenotype.tsv', sep='\\t')"
   ]
  },
  {
   "cell_type": "code",
   "execution_count": 46,
   "metadata": {},
   "outputs": [
    {
     "data": {
      "text/plain": [
       "['submitter_id.samples',\n",
       " 'additional_pharmaceutical_therapy',\n",
       " 'additional_radiation_therapy',\n",
       " 'age_at_initial_pathologic_diagnosis',\n",
       " 'batch_number',\n",
       " 'bcr',\n",
       " 'bcr_followup_barcode',\n",
       " 'bcr_followup_uuid',\n",
       " 'submitter_id',\n",
       " 'biochemical_recurrence',\n",
       " 'bone_scan_results',\n",
       " 'clinical_M',\n",
       " 'clinical_T',\n",
       " 'day_of_dcc_upload',\n",
       " 'day_of_form_completion',\n",
       " 'days_to_bone_scan_performed',\n",
       " 'days_to_diagnostic_computed_tomography_performed',\n",
       " 'days_to_diagnostic_mri_performed',\n",
       " 'days_to_first_biochemical_recurrence',\n",
       " 'days_to_initial_pathologic_diagnosis',\n",
       " 'days_to_new_tumor_event_after_initial_treatment',\n",
       " 'days_to_psa',\n",
       " 'days_to_second_biochemical_recurrence',\n",
       " 'days_to_third_biochemical_recurrence',\n",
       " 'diagnostic_ct_abd_pelvis_performed',\n",
       " 'diagnostic_ct_abd_pelvis_result',\n",
       " 'diagnostic_mri_performed',\n",
       " 'file_uuid',\n",
       " 'followup_case_report_form_submission_reason',\n",
       " 'followup_treatment_success',\n",
       " 'gleason_score',\n",
       " 'histological_type_other',\n",
       " 'history_of_neoadjuvant_treatment',\n",
       " 'informed_consent_verified',\n",
       " 'initial_pathologic_diagnosis_method',\n",
       " 'laterality',\n",
       " 'lost_follow_up',\n",
       " 'lymphnodes_examined',\n",
       " 'month_of_dcc_upload',\n",
       " 'month_of_form_completion',\n",
       " 'new_neoplasm_event_occurrence_anatomic_site',\n",
       " 'new_neoplasm_event_type',\n",
       " 'new_neoplasm_occurrence_anatomic_site_text',\n",
       " 'new_tumor_event_after_initial_treatment',\n",
       " 'number_of_lymphnodes_examined',\n",
       " 'number_of_lymphnodes_positive_by_he',\n",
       " 'other_dx',\n",
       " 'pathologic_N',\n",
       " 'pathologic_T',\n",
       " 'patient_death_reason',\n",
       " 'patient_id',\n",
       " 'person_neoplasm_cancer_status',\n",
       " 'postoperative_rx_tx',\n",
       " 'primary_pattern',\n",
       " 'primary_therapy_outcome_success',\n",
       " 'psa_value',\n",
       " 'radiation_therapy',\n",
       " 'secondary_pattern',\n",
       " 'source_of_patient_death_reason',\n",
       " 'tertiary_pattern',\n",
       " 'tissue_prospective_collection_indicator',\n",
       " 'tissue_retrospective_collection_indicator',\n",
       " 'tissue_source_site',\n",
       " 'tumor_progression_post_ht',\n",
       " 'type_of_progression_after_ht',\n",
       " 'type_ofprogression_of_disease_ht',\n",
       " 'withdrawn',\n",
       " 'year_of_dcc_upload',\n",
       " 'year_of_form_completion',\n",
       " 'year_of_initial_pathologic_diagnosis',\n",
       " 'zone_of_origin',\n",
       " 'days_to_index',\n",
       " 'dbgap_registration_code',\n",
       " 'disease_code',\n",
       " 'pathology_report_file_name',\n",
       " 'program',\n",
       " 'project_code',\n",
       " 'vial_number',\n",
       " 'age_at_index.demographic',\n",
       " 'days_to_birth.demographic',\n",
       " 'days_to_death.demographic',\n",
       " 'ethnicity.demographic',\n",
       " 'gender.demographic',\n",
       " 'race.demographic',\n",
       " 'vital_status.demographic',\n",
       " 'year_of_birth.demographic',\n",
       " 'year_of_death.demographic',\n",
       " 'age_at_diagnosis.diagnoses',\n",
       " 'classification_of_tumor.diagnoses',\n",
       " 'days_to_diagnosis.diagnoses',\n",
       " 'days_to_last_follow_up.diagnoses',\n",
       " 'icd_10_code.diagnoses',\n",
       " 'last_known_disease_status.diagnoses',\n",
       " 'morphology.diagnoses',\n",
       " 'primary_diagnosis.diagnoses',\n",
       " 'prior_malignancy.diagnoses',\n",
       " 'prior_treatment.diagnoses',\n",
       " 'progression_or_recurrence.diagnoses',\n",
       " 'site_of_resection_or_biopsy.diagnoses',\n",
       " 'synchronous_malignancy.diagnoses',\n",
       " 'tissue_or_organ_of_origin.diagnoses',\n",
       " 'tumor_grade.diagnoses',\n",
       " 'tumor_stage.diagnoses',\n",
       " 'year_of_diagnosis.diagnoses',\n",
       " 'disease_type',\n",
       " 'alcohol_history.exposures',\n",
       " 'primary_site',\n",
       " 'name.project',\n",
       " 'project_id.project',\n",
       " 'releasable.project',\n",
       " 'bcr_id.tissue_source_site',\n",
       " 'code.tissue_source_site',\n",
       " 'name.tissue_source_site',\n",
       " 'project.tissue_source_site',\n",
       " 'days_to_collection.samples',\n",
       " 'days_to_sample_procurement.samples',\n",
       " 'initial_weight.samples',\n",
       " 'intermediate_dimension.samples',\n",
       " 'is_ffpe.samples',\n",
       " 'longest_dimension.samples',\n",
       " 'oct_embedded.samples',\n",
       " 'preservation_method.samples',\n",
       " 'sample_type.samples',\n",
       " 'sample_type_id.samples',\n",
       " 'shortest_dimension.samples',\n",
       " 'state.samples',\n",
       " 'tissue_type.samples']"
      ]
     },
     "execution_count": 46,
     "metadata": {},
     "output_type": "execute_result"
    }
   ],
   "source": [
    "list(df.columns)"
   ]
  },
  {
   "cell_type": "code",
   "execution_count": 47,
   "metadata": {},
   "outputs": [
    {
     "data": {
      "text/plain": [
       "0      Alive\n",
       "1      Alive\n",
       "2      Alive\n",
       "3      Alive\n",
       "4      Alive\n",
       "       ...  \n",
       "618    Alive\n",
       "619    Alive\n",
       "620    Alive\n",
       "621    Alive\n",
       "622    Alive\n",
       "Name: vital_status.demographic, Length: 623, dtype: object"
      ]
     },
     "execution_count": 47,
     "metadata": {},
     "output_type": "execute_result"
    }
   ],
   "source": [
    "df['vital_status.demographic']"
   ]
  },
  {
   "cell_type": "code",
   "execution_count": null,
   "metadata": {},
   "outputs": [],
   "source": []
  }
 ],
 "metadata": {
  "kernelspec": {
   "display_name": "Python 3.10.5 ('ubrite')",
   "language": "python",
   "name": "python3"
  },
  "language_info": {
   "codemirror_mode": {
    "name": "ipython",
    "version": 3
   },
   "file_extension": ".py",
   "mimetype": "text/x-python",
   "name": "python",
   "nbconvert_exporter": "python",
   "pygments_lexer": "ipython3",
   "version": "3.10.5"
  },
  "orig_nbformat": 4,
  "vscode": {
   "interpreter": {
    "hash": "0a3a4eb86f840785835501ae8378dd2bb2fd225fa0c201e6aa86e45c2491c491"
   }
  }
 },
 "nbformat": 4,
 "nbformat_minor": 2
}
