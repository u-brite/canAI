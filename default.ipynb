{
 "cells": [
  {
   "cell_type": "code",
   "execution_count": 48,
   "metadata": {},
   "outputs": [],
   "source": [
    "import pandas as pd\n",
    "import plotly.figure_factory as ff"
   ]
  },
  {
   "cell_type": "code",
   "execution_count": 30,
   "metadata": {},
   "outputs": [],
   "source": [
    "df = pd.read_csv('Prostate.csv')"
   ]
  },
  {
   "cell_type": "code",
   "execution_count": 31,
   "metadata": {},
   "outputs": [],
   "source": [
    "columns = ['age_at_index',\n",
    "    'days_to_birth',\n",
    "    'days_to_death',\n",
    "    'ethnicity',\n",
    "    'gender',\n",
    "    'race',\n",
    "    'vital_status',\n",
    "    'morphology',\n",
    "    'primary_diagnosis',\n",
    "    'ajcc_clinical_t',\n",
    "    'ajcc_clinical_m',\n",
    "    'ajcc_pathologic_t',\n",
    "    'ajcc_pathologic_n',\n",
    "    'primary_gleason_grade',\n",
    "    'secondary_gleason_grade',\n",
    "    'prior_malignancy',\n",
    "    'prior_treatment',\n",
    "    'site_of_resection_or_biopsy',\n",
    "    'treatment_type']"
   ]
  },
  {
   "cell_type": "code",
   "execution_count": 32,
   "metadata": {},
   "outputs": [],
   "source": [
    "df = df[columns]"
   ]
  },
  {
   "cell_type": "code",
   "execution_count": null,
   "metadata": {},
   "outputs": [],
   "source": []
  }
 ],
 "metadata": {
  "kernelspec": {
   "display_name": "Python 3.10.5 ('ubrite')",
   "language": "python",
   "name": "python3"
  },
  "language_info": {
   "codemirror_mode": {
    "name": "ipython",
    "version": 3
   },
   "file_extension": ".py",
   "mimetype": "text/x-python",
   "name": "python",
   "nbconvert_exporter": "python",
   "pygments_lexer": "ipython3",
   "version": "3.10.5"
  },
  "orig_nbformat": 4,
  "vscode": {
   "interpreter": {
    "hash": "0a3a4eb86f840785835501ae8378dd2bb2fd225fa0c201e6aa86e45c2491c491"
   }
  }
 },
 "nbformat": 4,
 "nbformat_minor": 2
}
