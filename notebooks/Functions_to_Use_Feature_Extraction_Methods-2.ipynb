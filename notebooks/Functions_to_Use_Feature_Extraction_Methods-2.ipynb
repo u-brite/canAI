{
  "cells": [
    {
      "cell_type": "code",
      "source": [
        "from sklearn.model_selection import train_test_split\n",
        "import pandas as pd\n",
        "\n",
        "x, y = iris.data, iris.target\n",
        "x_train,x_test,y_train,y_test=train_test_split(x,y,test_size=0.2,random_state=123)\n",
        "names = ['Iris-setosa', 'Iris-versicolor', 'Iris-virginica','iris']\n",
        "names = pd.DataFrame(names)"
      ],
      "metadata": {
        "id": "HmfhOHgUO_Qo"
      },
      "execution_count": 2,
      "outputs": []
    },
    {
      "cell_type": "code",
      "source": [
        "data=pd.read_csv('data.txt',sep=\"\\t\",)\n",
        "data=(data.T)\n",
        "data.drop(index=data.index[0], axis=0, inplace=True)\n",
        "newheader=data.iloc[0]\n",
        "data=data[1:]\n",
        "data.columns=newheader\n",
        "data = data[data.sample_type != 'metastatic']\n",
        "data.head()\n"
      ],
      "metadata": {
        "colab": {
          "base_uri": "https://localhost:8080/",
          "height": 331
        },
        "id": "ek2kTu8m_AOs",
        "outputId": "e468cea3-088b-47be-86cb-45a7a18d923a"
      },
      "execution_count": 20,
      "outputs": [
        {
          "output_type": "stream",
          "name": "stderr",
          "text": [
            "/usr/local/lib/python3.7/dist-packages/IPython/core/interactiveshell.py:2882: DtypeWarning: Columns (2,3,4,5,6,7,8,9,10,11,12,13,14,15,16,17,18,19,20,21,22,23,24,25,26,27,28,29,30,31,32,33,34,35,36,37,38,39,40,41,42,43,44,45,46,47,48,49,50,51,52,53,54,55,56,57,58,59,60,61,62,63,64,65,66,67,68,69,70,71,72,73,74,75,76,77,78,79,80,81,82,83,84,85,86,87,88,89,90,91,92,93,94,95,96,97,98,99,100,101,102,103,104,105,106,107,108,109,110,111,112,113,114,115,116,117,118,119,120,121,122,123,124,125,126,127,128,129,130,131,132,133,134,135,136,137,138,139,140,141,142,143,144,145,146,147,148,149,150,151,152,153,154,155,156,157,158,159,160,161,162,163,164,165,166,167,168,169,170,171,172,173,174,175,176,177,178,179,180,181,182,183,184,185,186,187,188,189,190,191,192,193,194,195,196,197,198,199,200,201,202,203,204,205,206,207,208,209,210,211,212,213,214,215,216,217,218,219,220,221,222,223,224,225,226,227,228,229,230,231,232,233,234,235,236,237,238,239,240,241,242,243,244,245,246,247,248,249,250,251,252,253,254,255,256,257,258,259,260,261,262,263,264,265,266,267,268,269,270,271,272,273,274,275,276,277,278,279,280,281,282,283,284,285,286,287,288,289,290,291,292,293,294,295,296,297,298,299,300,301,302,303,304,305,306,307,308,309,310,311,312,313,314,315,316,317,318,319,320,321,322,323,324,325,326,327,328,329,330,331,332,333,334,335,336,337,338,339,340,341,342,343,344,345,346,347,348,349,350,351,352,353,354,355,356,357,358,359,360,361,362,363,364,365,366,367,368,369,370,371,372,373,374,375,376,377,378,379,380,381,382,383,384,385,386,387,388,389,390,391,392,393,394,395,396,397,398,399,400,401,402,403,404,405,406,407,408,409,410,411,412,413,414,415,416,417,418,419,420,421,422,423,424,425,426,427,428,429,430,431,432,433,434,435,436,437,438,439,440,441,442,443,444,445,446,447,448,449,450,451,452,453,454,455,456,457,458,459,460,461,462,463,464,465,466,467,468,469,470,471,472,473,474,475,476,477,478,479,480,481,482,483,484,485,486,487,488,489,490,491,492,493,494,495,496,497,498,499,500,501,502,503,504,505,506,507,508,509,510,511,512,513,514,515,516,517,518,519,520,521,522,523,524,525,526,527,528,529,530,531,532,533,534,535,536,537,538,539,540,541,542,543,544,545,546,547,548,549,550,551,552,553,554) have mixed types.Specify dtype option on import or set low_memory=False.\n",
            "  exec(code_obj, self.user_global_ns, self.user_ns)\n"
          ]
        },
        {
          "output_type": "execute_result",
          "data": {
            "text/plain": [
              "bcr_patient_barcode    sample_type ENSG00000285626.1 ENSG00000275877.1  \\\n",
              "tcga-2a-a8vl         primary_tumor              3.92                 1   \n",
              "tcga-2a-a8vo         primary_tumor              1.68                 1   \n",
              "tcga-2a-a8vt         primary_tumor                 1                 1   \n",
              "tcga-2a-a8vv         primary_tumor                 1                 1   \n",
              "tcga-2a-a8vx         primary_tumor                 1                 1   \n",
              "\n",
              "bcr_patient_barcode ENSG00000274303.1 ENSG00000121410.12 ENSG00000268895.6  \\\n",
              "tcga-2a-a8vl                        1               1.09              1.31   \n",
              "tcga-2a-a8vo                     1.27               1.02              1.14   \n",
              "tcga-2a-a8vt                        1               1.02              1.35   \n",
              "tcga-2a-a8vv                     1.24               1.04              1.13   \n",
              "tcga-2a-a8vx                        1               1.04              1.21   \n",
              "\n",
              "bcr_patient_barcode ENSG00000148584.15 ENSG00000175899.15 ENSG00000245105.4  \\\n",
              "tcga-2a-a8vl                      1.04              97.55              2.77   \n",
              "tcga-2a-a8vo                         1             354.77                 3   \n",
              "tcga-2a-a8vt                      1.02             167.33              2.69   \n",
              "tcga-2a-a8vv                      1.02             194.35              4.73   \n",
              "tcga-2a-a8vx                      1.01              141.1              2.58   \n",
              "\n",
              "bcr_patient_barcode ENSG00000166535.20  ... ENSG00000198205.6  \\\n",
              "tcga-2a-a8vl                      2.36  ...              4.52   \n",
              "tcga-2a-a8vo                      1.25  ...              3.78   \n",
              "tcga-2a-a8vt                      1.19  ...             11.27   \n",
              "tcga-2a-a8vv                       1.1  ...              4.27   \n",
              "tcga-2a-a8vx                      1.39  ...              2.66   \n",
              "\n",
              "bcr_patient_barcode ENSG00000198455.4 ENSG00000070476.15 ENSG00000203995.10  \\\n",
              "tcga-2a-a8vl                     7.45              13.21               2.32   \n",
              "tcga-2a-a8vo                     8.52               9.38               6.07   \n",
              "tcga-2a-a8vt                    20.51              33.43               3.43   \n",
              "tcga-2a-a8vv                    11.52              11.33               3.41   \n",
              "tcga-2a-a8vx                     8.09              10.02               5.34   \n",
              "\n",
              "bcr_patient_barcode ENSG00000232242.2 ENSG00000162378.13 ENSG00000159840.16  \\\n",
              "tcga-2a-a8vl                      1.0              13.34               87.5   \n",
              "tcga-2a-a8vo                      1.0              12.83              90.75   \n",
              "tcga-2a-a8vt                      1.0              34.23              95.25   \n",
              "tcga-2a-a8vv                      1.0              12.92             127.76   \n",
              "tcga-2a-a8vx                      1.0              11.51              70.16   \n",
              "\n",
              "bcr_patient_barcode ENSG00000274572.1 ENSG00000074755.15 ENSG00000036549.13  \n",
              "tcga-2a-a8vl                      1.0              14.65              11.74  \n",
              "tcga-2a-a8vo                      1.0               8.14              12.27  \n",
              "tcga-2a-a8vt                      1.0              31.37               40.5  \n",
              "tcga-2a-a8vv                      1.0              11.51              23.17  \n",
              "tcga-2a-a8vx                      1.0               7.51              14.38  \n",
              "\n",
              "[5 rows x 56468 columns]"
            ],
            "text/html": [
              "\n",
              "  <div id=\"df-72d6c658-8636-45bb-ad22-389b0bfab0f1\">\n",
              "    <div class=\"colab-df-container\">\n",
              "      <div>\n",
              "<style scoped>\n",
              "    .dataframe tbody tr th:only-of-type {\n",
              "        vertical-align: middle;\n",
              "    }\n",
              "\n",
              "    .dataframe tbody tr th {\n",
              "        vertical-align: top;\n",
              "    }\n",
              "\n",
              "    .dataframe thead th {\n",
              "        text-align: right;\n",
              "    }\n",
              "</style>\n",
              "<table border=\"1\" class=\"dataframe\">\n",
              "  <thead>\n",
              "    <tr style=\"text-align: right;\">\n",
              "      <th>bcr_patient_barcode</th>\n",
              "      <th>sample_type</th>\n",
              "      <th>ENSG00000285626.1</th>\n",
              "      <th>ENSG00000275877.1</th>\n",
              "      <th>ENSG00000274303.1</th>\n",
              "      <th>ENSG00000121410.12</th>\n",
              "      <th>ENSG00000268895.6</th>\n",
              "      <th>ENSG00000148584.15</th>\n",
              "      <th>ENSG00000175899.15</th>\n",
              "      <th>ENSG00000245105.4</th>\n",
              "      <th>ENSG00000166535.20</th>\n",
              "      <th>...</th>\n",
              "      <th>ENSG00000198205.6</th>\n",
              "      <th>ENSG00000198455.4</th>\n",
              "      <th>ENSG00000070476.15</th>\n",
              "      <th>ENSG00000203995.10</th>\n",
              "      <th>ENSG00000232242.2</th>\n",
              "      <th>ENSG00000162378.13</th>\n",
              "      <th>ENSG00000159840.16</th>\n",
              "      <th>ENSG00000274572.1</th>\n",
              "      <th>ENSG00000074755.15</th>\n",
              "      <th>ENSG00000036549.13</th>\n",
              "    </tr>\n",
              "  </thead>\n",
              "  <tbody>\n",
              "    <tr>\n",
              "      <th>tcga-2a-a8vl</th>\n",
              "      <td>primary_tumor</td>\n",
              "      <td>3.92</td>\n",
              "      <td>1</td>\n",
              "      <td>1</td>\n",
              "      <td>1.09</td>\n",
              "      <td>1.31</td>\n",
              "      <td>1.04</td>\n",
              "      <td>97.55</td>\n",
              "      <td>2.77</td>\n",
              "      <td>2.36</td>\n",
              "      <td>...</td>\n",
              "      <td>4.52</td>\n",
              "      <td>7.45</td>\n",
              "      <td>13.21</td>\n",
              "      <td>2.32</td>\n",
              "      <td>1.0</td>\n",
              "      <td>13.34</td>\n",
              "      <td>87.5</td>\n",
              "      <td>1.0</td>\n",
              "      <td>14.65</td>\n",
              "      <td>11.74</td>\n",
              "    </tr>\n",
              "    <tr>\n",
              "      <th>tcga-2a-a8vo</th>\n",
              "      <td>primary_tumor</td>\n",
              "      <td>1.68</td>\n",
              "      <td>1</td>\n",
              "      <td>1.27</td>\n",
              "      <td>1.02</td>\n",
              "      <td>1.14</td>\n",
              "      <td>1</td>\n",
              "      <td>354.77</td>\n",
              "      <td>3</td>\n",
              "      <td>1.25</td>\n",
              "      <td>...</td>\n",
              "      <td>3.78</td>\n",
              "      <td>8.52</td>\n",
              "      <td>9.38</td>\n",
              "      <td>6.07</td>\n",
              "      <td>1.0</td>\n",
              "      <td>12.83</td>\n",
              "      <td>90.75</td>\n",
              "      <td>1.0</td>\n",
              "      <td>8.14</td>\n",
              "      <td>12.27</td>\n",
              "    </tr>\n",
              "    <tr>\n",
              "      <th>tcga-2a-a8vt</th>\n",
              "      <td>primary_tumor</td>\n",
              "      <td>1</td>\n",
              "      <td>1</td>\n",
              "      <td>1</td>\n",
              "      <td>1.02</td>\n",
              "      <td>1.35</td>\n",
              "      <td>1.02</td>\n",
              "      <td>167.33</td>\n",
              "      <td>2.69</td>\n",
              "      <td>1.19</td>\n",
              "      <td>...</td>\n",
              "      <td>11.27</td>\n",
              "      <td>20.51</td>\n",
              "      <td>33.43</td>\n",
              "      <td>3.43</td>\n",
              "      <td>1.0</td>\n",
              "      <td>34.23</td>\n",
              "      <td>95.25</td>\n",
              "      <td>1.0</td>\n",
              "      <td>31.37</td>\n",
              "      <td>40.5</td>\n",
              "    </tr>\n",
              "    <tr>\n",
              "      <th>tcga-2a-a8vv</th>\n",
              "      <td>primary_tumor</td>\n",
              "      <td>1</td>\n",
              "      <td>1</td>\n",
              "      <td>1.24</td>\n",
              "      <td>1.04</td>\n",
              "      <td>1.13</td>\n",
              "      <td>1.02</td>\n",
              "      <td>194.35</td>\n",
              "      <td>4.73</td>\n",
              "      <td>1.1</td>\n",
              "      <td>...</td>\n",
              "      <td>4.27</td>\n",
              "      <td>11.52</td>\n",
              "      <td>11.33</td>\n",
              "      <td>3.41</td>\n",
              "      <td>1.0</td>\n",
              "      <td>12.92</td>\n",
              "      <td>127.76</td>\n",
              "      <td>1.0</td>\n",
              "      <td>11.51</td>\n",
              "      <td>23.17</td>\n",
              "    </tr>\n",
              "    <tr>\n",
              "      <th>tcga-2a-a8vx</th>\n",
              "      <td>primary_tumor</td>\n",
              "      <td>1</td>\n",
              "      <td>1</td>\n",
              "      <td>1</td>\n",
              "      <td>1.04</td>\n",
              "      <td>1.21</td>\n",
              "      <td>1.01</td>\n",
              "      <td>141.1</td>\n",
              "      <td>2.58</td>\n",
              "      <td>1.39</td>\n",
              "      <td>...</td>\n",
              "      <td>2.66</td>\n",
              "      <td>8.09</td>\n",
              "      <td>10.02</td>\n",
              "      <td>5.34</td>\n",
              "      <td>1.0</td>\n",
              "      <td>11.51</td>\n",
              "      <td>70.16</td>\n",
              "      <td>1.0</td>\n",
              "      <td>7.51</td>\n",
              "      <td>14.38</td>\n",
              "    </tr>\n",
              "  </tbody>\n",
              "</table>\n",
              "<p>5 rows × 56468 columns</p>\n",
              "</div>\n",
              "      <button class=\"colab-df-convert\" onclick=\"convertToInteractive('df-72d6c658-8636-45bb-ad22-389b0bfab0f1')\"\n",
              "              title=\"Convert this dataframe to an interactive table.\"\n",
              "              style=\"display:none;\">\n",
              "        \n",
              "  <svg xmlns=\"http://www.w3.org/2000/svg\" height=\"24px\"viewBox=\"0 0 24 24\"\n",
              "       width=\"24px\">\n",
              "    <path d=\"M0 0h24v24H0V0z\" fill=\"none\"/>\n",
              "    <path d=\"M18.56 5.44l.94 2.06.94-2.06 2.06-.94-2.06-.94-.94-2.06-.94 2.06-2.06.94zm-11 1L8.5 8.5l.94-2.06 2.06-.94-2.06-.94L8.5 2.5l-.94 2.06-2.06.94zm10 10l.94 2.06.94-2.06 2.06-.94-2.06-.94-.94-2.06-.94 2.06-2.06.94z\"/><path d=\"M17.41 7.96l-1.37-1.37c-.4-.4-.92-.59-1.43-.59-.52 0-1.04.2-1.43.59L10.3 9.45l-7.72 7.72c-.78.78-.78 2.05 0 2.83L4 21.41c.39.39.9.59 1.41.59.51 0 1.02-.2 1.41-.59l7.78-7.78 2.81-2.81c.8-.78.8-2.07 0-2.86zM5.41 20L4 18.59l7.72-7.72 1.47 1.35L5.41 20z\"/>\n",
              "  </svg>\n",
              "      </button>\n",
              "      \n",
              "  <style>\n",
              "    .colab-df-container {\n",
              "      display:flex;\n",
              "      flex-wrap:wrap;\n",
              "      gap: 12px;\n",
              "    }\n",
              "\n",
              "    .colab-df-convert {\n",
              "      background-color: #E8F0FE;\n",
              "      border: none;\n",
              "      border-radius: 50%;\n",
              "      cursor: pointer;\n",
              "      display: none;\n",
              "      fill: #1967D2;\n",
              "      height: 32px;\n",
              "      padding: 0 0 0 0;\n",
              "      width: 32px;\n",
              "    }\n",
              "\n",
              "    .colab-df-convert:hover {\n",
              "      background-color: #E2EBFA;\n",
              "      box-shadow: 0px 1px 2px rgba(60, 64, 67, 0.3), 0px 1px 3px 1px rgba(60, 64, 67, 0.15);\n",
              "      fill: #174EA6;\n",
              "    }\n",
              "\n",
              "    [theme=dark] .colab-df-convert {\n",
              "      background-color: #3B4455;\n",
              "      fill: #D2E3FC;\n",
              "    }\n",
              "\n",
              "    [theme=dark] .colab-df-convert:hover {\n",
              "      background-color: #434B5C;\n",
              "      box-shadow: 0px 1px 3px 1px rgba(0, 0, 0, 0.15);\n",
              "      filter: drop-shadow(0px 1px 2px rgba(0, 0, 0, 0.3));\n",
              "      fill: #FFFFFF;\n",
              "    }\n",
              "  </style>\n",
              "\n",
              "      <script>\n",
              "        const buttonEl =\n",
              "          document.querySelector('#df-72d6c658-8636-45bb-ad22-389b0bfab0f1 button.colab-df-convert');\n",
              "        buttonEl.style.display =\n",
              "          google.colab.kernel.accessAllowed ? 'block' : 'none';\n",
              "\n",
              "        async function convertToInteractive(key) {\n",
              "          const element = document.querySelector('#df-72d6c658-8636-45bb-ad22-389b0bfab0f1');\n",
              "          const dataTable =\n",
              "            await google.colab.kernel.invokeFunction('convertToInteractive',\n",
              "                                                     [key], {});\n",
              "          if (!dataTable) return;\n",
              "\n",
              "          const docLinkHtml = 'Like what you see? Visit the ' +\n",
              "            '<a target=\"_blank\" href=https://colab.research.google.com/notebooks/data_table.ipynb>data table notebook</a>'\n",
              "            + ' to learn more about interactive tables.';\n",
              "          element.innerHTML = '';\n",
              "          dataTable['output_type'] = 'display_data';\n",
              "          await google.colab.output.renderOutput(dataTable, element);\n",
              "          const docLink = document.createElement('div');\n",
              "          docLink.innerHTML = docLinkHtml;\n",
              "          element.appendChild(docLink);\n",
              "        }\n",
              "      </script>\n",
              "    </div>\n",
              "  </div>\n",
              "  "
            ]
          },
          "metadata": {},
          "execution_count": 20
        }
      ]
    },
    {
      "cell_type": "code",
      "source": [
        "y=data['sample_type']\n",
        "x=data.drop('sample_type',axis=1)\n",
        "names=x.columns\n",
        "x_train,x_test,y_train,y_test=train_test_split(x,y,test_size=0.2,random_state=123)\n",
        "print(x_train.shape)\n",
        "print(x_test.shape)"
      ],
      "metadata": {
        "colab": {
          "base_uri": "https://localhost:8080/"
        },
        "id": "zz6zRWPxJ3d0",
        "outputId": "31aec33d-3884-4b05-9be5-d362d17b0583"
      },
      "execution_count": 28,
      "outputs": [
        {
          "output_type": "stream",
          "name": "stdout",
          "text": [
            "(441, 56467)\n",
            "(111, 56467)\n"
          ]
        },
        {
          "output_type": "execute_result",
          "data": {
            "text/plain": [
              "Index(['ENSG00000285626.1', 'ENSG00000275877.1', 'ENSG00000274303.1',\n",
              "       'ENSG00000121410.12', 'ENSG00000268895.6', 'ENSG00000148584.15',\n",
              "       'ENSG00000175899.15', 'ENSG00000245105.4', 'ENSG00000166535.20',\n",
              "       'ENSG00000256661.1',\n",
              "       ...\n",
              "       'ENSG00000198205.6', 'ENSG00000198455.4', 'ENSG00000070476.15',\n",
              "       'ENSG00000203995.10', 'ENSG00000232242.2', 'ENSG00000162378.13',\n",
              "       'ENSG00000159840.16', 'ENSG00000274572.1', 'ENSG00000074755.15',\n",
              "       'ENSG00000036549.13'],\n",
              "      dtype='object', name='bcr_patient_barcode', length=56467)"
            ]
          },
          "metadata": {},
          "execution_count": 28
        }
      ]
    },
    {
      "cell_type": "code",
      "source": [
        "y_test.value_counts()\n"
      ],
      "metadata": {
        "colab": {
          "base_uri": "https://localhost:8080/"
        },
        "id": "PlE6iBUtNu3y",
        "outputId": "5c2fed06-2e2e-4e8b-c7fd-258ea012cf04"
      },
      "execution_count": 22,
      "outputs": [
        {
          "output_type": "execute_result",
          "data": {
            "text/plain": [
              "primary_tumor          99\n",
              "solid_tissue_normal    12\n",
              "Name: sample_type, dtype: int64"
            ]
          },
          "metadata": {},
          "execution_count": 22
        }
      ]
    },
    {
      "cell_type": "code",
      "source": [
        "y_train.value_counts()"
      ],
      "metadata": {
        "colab": {
          "base_uri": "https://localhost:8080/"
        },
        "id": "ETgt6tOfObi9",
        "outputId": "9d35db45-f236-477b-841a-444a4438a4cb"
      },
      "execution_count": 23,
      "outputs": [
        {
          "output_type": "execute_result",
          "data": {
            "text/plain": [
              "primary_tumor          401\n",
              "solid_tissue_normal     40\n",
              "Name: sample_type, dtype: int64"
            ]
          },
          "metadata": {},
          "execution_count": 23
        }
      ]
    },
    {
      "cell_type": "code",
      "source": [
        "#RFE\n",
        "n=3\n",
        "def RFEmethod(X,Y):\n",
        "  from sklearn.feature_selection import RFE\n",
        "  from sklearn.tree import DecisionTreeClassifier\n",
        "  rfe = RFE(estimator=DecisionTreeClassifier(), n_features_to_select=n)\n",
        "  rfe.fit(X,Y)\n",
        "  rankings=pd.DataFrame(rfe.ranking_) \n",
        "  ranked=pd.concat([names,rankings], axis=1)\n",
        "  ranked.columns = [\"Feature\", \"Rank\"]\n",
        "  print(ranked)\n"
      ],
      "metadata": {
        "id": "okhJIkhJ4S-B"
      },
      "execution_count": 24,
      "outputs": []
    },
    {
      "cell_type": "code",
      "source": [
        "RFEmethod(x_train,y_train) \n"
      ],
      "metadata": {
        "id": "zorMr3V_Y4J1"
      },
      "execution_count": null,
      "outputs": []
    },
    {
      "cell_type": "code",
      "source": [
        "#univariate (f_regression)\n",
        "import pandas\n",
        "import numpy\n",
        "from sklearn.feature_selection import SelectKBest\n",
        "from sklearn.feature_selection import f_regression\n",
        "from sklearn.datasets import load_digits\n",
        "\n",
        "def univariatemethod1(X,Y):\n",
        "  model = SelectKBest(score_func=f_regression, k=n)\n",
        "  results = model.fit(X, Y)\n",
        "  results_df=pd.DataFrame(results.scores_)\n",
        "  scored=pd.concat([names,results_df], axis=1)\n",
        "  scored.columns = [\"Feature\", \"Score\"]\n",
        "  print(scored.sort_values(by=['Score']).head(13))\n",
        "\n",
        "#univariate (chi-squared)\n",
        "from sklearn.feature_selection import chi2\n",
        "def univariatemethod2(X,Y):\n",
        "  model = SelectKBest(score_func=chi2, k=n)\n",
        "  results = model.fit(X, Y)\n",
        "  results_df=pd.DataFrame(results.scores_)\n",
        "  scored=pd.concat([names,results_df], axis=1)\n",
        "  scored.columns = [\"Feature\", \"Score\"]\n",
        "  print(scored.sort_values(by=['Score']).head(13))\n",
        "\n"
      ],
      "metadata": {
        "id": "ywA5DJkbyr9A"
      },
      "execution_count": 208,
      "outputs": []
    },
    {
      "cell_type": "code",
      "source": [
        "univariatemethod1(x_train,y_train)\n",
        "univariatemethod2(x_train,y_train)\n",
        "\n"
      ],
      "metadata": {
        "colab": {
          "base_uri": "https://localhost:8080/"
        },
        "id": "aeSPlguTzuvL",
        "outputId": "88f543b0-97be-4b6f-da21-287c41ddfc39"
      },
      "execution_count": 209,
      "outputs": [
        {
          "output_type": "stream",
          "name": "stdout",
          "text": [
            "           Feature        Score\n",
            "1  Iris-versicolor    25.593935\n",
            "0      Iris-setosa   172.545672\n",
            "2   Iris-virginica  1024.706198\n",
            "3              NaN  1123.296892\n",
            "           Feature      Score\n",
            "1  Iris-versicolor   2.905655\n",
            "0      Iris-setosa   8.061120\n",
            "3              NaN  49.073776\n",
            "2   Iris-virginica  87.228846\n"
          ]
        }
      ]
    },
    {
      "cell_type": "code",
      "source": [
        "#Feature Importance\n",
        "#Top Score is most important\n",
        "from sklearn.ensemble import ExtraTreesClassifier\n",
        "def FeatureImportancemethod(X,Y):\n",
        "  model = ExtraTreesClassifier()\n",
        "  model.fit(X, Y)\n",
        "  results_df=pd.DataFrame(model.feature_importances_)\n",
        "  scored=pd.concat([names,results_df], axis=1)\n",
        "  scored.columns = [\"Feature\", \"Score\"]\n",
        "  print(scored)"
      ],
      "metadata": {
        "id": "FPY7wmjt4iqO"
      },
      "execution_count": 227,
      "outputs": []
    },
    {
      "cell_type": "code",
      "source": [
        "FeatureImportancemethod(x_test,y_test)"
      ],
      "metadata": {
        "colab": {
          "base_uri": "https://localhost:8080/"
        },
        "id": "lXLogTK84zx2",
        "outputId": "a6dd9902-9e44-486d-b1b2-707ced8ed28f"
      },
      "execution_count": 228,
      "outputs": [
        {
          "output_type": "stream",
          "name": "stdout",
          "text": [
            "           Feature     Score\n",
            "0      Iris-setosa  0.091136\n",
            "1  Iris-versicolor  0.118124\n",
            "2   Iris-virginica  0.343776\n",
            "3              NaN  0.446964\n"
          ]
        }
      ]
    },
    {
      "cell_type": "code",
      "source": [
        "#evaluation\n",
        "def randomforest(X,Y):\n",
        "  import numpy as np\n",
        "  from sklearn.ensemble import RandomForestClassifier\n",
        "  classifier = RandomForestClassifier(n_estimators = 1000, random_state = 42)\n",
        "  classifier.fit(X,Y)\n",
        "  predictions = classifier.predict(x_test)\n",
        "  print(confusion_matrix(Y_Test,predictions))\n",
        "  print(classification_report(Y_Test,predictions))"
      ],
      "metadata": {
        "id": "rJ132kMT6w8O"
      },
      "execution_count": 136,
      "outputs": []
    }
  ],
  "metadata": {
    "colab": {
      "collapsed_sections": [],
      "name": "Functions to Use Feature Extraction Methods",
      "provenance": []
    },
    "kernelspec": {
      "display_name": "Python 3",
      "name": "python3"
    }
  },
  "nbformat": 4,
  "nbformat_minor": 0
}